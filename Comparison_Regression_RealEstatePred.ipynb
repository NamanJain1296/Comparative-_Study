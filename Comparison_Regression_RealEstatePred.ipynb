{
 "cells": [
  {
   "cell_type": "markdown",
   "id": "7a290f43",
   "metadata": {},
   "source": [
    "This dataset includes a variety of features related to residential homes, such as transaction date, house age, distance to the nearest MRT station, number of convenience stores, latitutde and longitude. The target variable is the house price of unit area."
   ]
  },
  {
   "cell_type": "code",
   "execution_count": 71,
   "id": "b326ac89",
   "metadata": {},
   "outputs": [],
   "source": [
    "import pandas as pd\n",
    "from sklearn import linear_model #for linear reg\n",
    "from sklearn.svm import SVR #for support vector\n",
    "from sklearn.tree import DecisionTreeRegressor #for decision tree\n",
    "from sklearn.ensemble import RandomForestRegressor #for random forest\n",
    "from sklearn.metrics import mean_squared_error, r2_score\n",
    "from sklearn.model_selection import train_test_split"
   ]
  },
  {
   "cell_type": "code",
   "execution_count": 72,
   "id": "d3e92b64",
   "metadata": {},
   "outputs": [],
   "source": [
    "df = pd.read_csv(\"D:\\Data Science\\datasets\\Other datasets\\RealEstate.csv\")"
   ]
  },
  {
   "cell_type": "code",
   "execution_count": 73,
   "id": "539e54b9",
   "metadata": {},
   "outputs": [
    {
     "data": {
      "text/html": [
       "<div>\n",
       "<style scoped>\n",
       "    .dataframe tbody tr th:only-of-type {\n",
       "        vertical-align: middle;\n",
       "    }\n",
       "\n",
       "    .dataframe tbody tr th {\n",
       "        vertical-align: top;\n",
       "    }\n",
       "\n",
       "    .dataframe thead th {\n",
       "        text-align: right;\n",
       "    }\n",
       "</style>\n",
       "<table border=\"1\" class=\"dataframe\">\n",
       "  <thead>\n",
       "    <tr style=\"text-align: right;\">\n",
       "      <th></th>\n",
       "      <th>No</th>\n",
       "      <th>X1 transaction date</th>\n",
       "      <th>X2 house age</th>\n",
       "      <th>X3 distance to the nearest MRT station</th>\n",
       "      <th>X4 number of convenience stores</th>\n",
       "      <th>X5 latitude</th>\n",
       "      <th>X6 longitude</th>\n",
       "      <th>Y house price of unit area</th>\n",
       "    </tr>\n",
       "  </thead>\n",
       "  <tbody>\n",
       "    <tr>\n",
       "      <th>0</th>\n",
       "      <td>1</td>\n",
       "      <td>2012.917</td>\n",
       "      <td>32.0</td>\n",
       "      <td>84.87882</td>\n",
       "      <td>10</td>\n",
       "      <td>24.98298</td>\n",
       "      <td>121.54024</td>\n",
       "      <td>37.9</td>\n",
       "    </tr>\n",
       "    <tr>\n",
       "      <th>1</th>\n",
       "      <td>2</td>\n",
       "      <td>2012.917</td>\n",
       "      <td>19.5</td>\n",
       "      <td>306.59470</td>\n",
       "      <td>9</td>\n",
       "      <td>24.98034</td>\n",
       "      <td>121.53951</td>\n",
       "      <td>42.2</td>\n",
       "    </tr>\n",
       "    <tr>\n",
       "      <th>2</th>\n",
       "      <td>3</td>\n",
       "      <td>2013.583</td>\n",
       "      <td>13.3</td>\n",
       "      <td>561.98450</td>\n",
       "      <td>5</td>\n",
       "      <td>24.98746</td>\n",
       "      <td>121.54391</td>\n",
       "      <td>47.3</td>\n",
       "    </tr>\n",
       "    <tr>\n",
       "      <th>3</th>\n",
       "      <td>4</td>\n",
       "      <td>2013.500</td>\n",
       "      <td>13.3</td>\n",
       "      <td>561.98450</td>\n",
       "      <td>5</td>\n",
       "      <td>24.98746</td>\n",
       "      <td>121.54391</td>\n",
       "      <td>54.8</td>\n",
       "    </tr>\n",
       "    <tr>\n",
       "      <th>4</th>\n",
       "      <td>5</td>\n",
       "      <td>2012.833</td>\n",
       "      <td>5.0</td>\n",
       "      <td>390.56840</td>\n",
       "      <td>5</td>\n",
       "      <td>24.97937</td>\n",
       "      <td>121.54245</td>\n",
       "      <td>43.1</td>\n",
       "    </tr>\n",
       "  </tbody>\n",
       "</table>\n",
       "</div>"
      ],
      "text/plain": [
       "   No  X1 transaction date  X2 house age  \\\n",
       "0   1             2012.917          32.0   \n",
       "1   2             2012.917          19.5   \n",
       "2   3             2013.583          13.3   \n",
       "3   4             2013.500          13.3   \n",
       "4   5             2012.833           5.0   \n",
       "\n",
       "   X3 distance to the nearest MRT station  X4 number of convenience stores  \\\n",
       "0                                84.87882                               10   \n",
       "1                               306.59470                                9   \n",
       "2                               561.98450                                5   \n",
       "3                               561.98450                                5   \n",
       "4                               390.56840                                5   \n",
       "\n",
       "   X5 latitude  X6 longitude  Y house price of unit area  \n",
       "0     24.98298     121.54024                        37.9  \n",
       "1     24.98034     121.53951                        42.2  \n",
       "2     24.98746     121.54391                        47.3  \n",
       "3     24.98746     121.54391                        54.8  \n",
       "4     24.97937     121.54245                        43.1  "
      ]
     },
     "execution_count": 73,
     "metadata": {},
     "output_type": "execute_result"
    }
   ],
   "source": [
    "df.head()"
   ]
  },
  {
   "cell_type": "code",
   "execution_count": 74,
   "id": "66bad030",
   "metadata": {},
   "outputs": [
    {
     "data": {
      "text/html": [
       "<div>\n",
       "<style scoped>\n",
       "    .dataframe tbody tr th:only-of-type {\n",
       "        vertical-align: middle;\n",
       "    }\n",
       "\n",
       "    .dataframe tbody tr th {\n",
       "        vertical-align: top;\n",
       "    }\n",
       "\n",
       "    .dataframe thead th {\n",
       "        text-align: right;\n",
       "    }\n",
       "</style>\n",
       "<table border=\"1\" class=\"dataframe\">\n",
       "  <thead>\n",
       "    <tr style=\"text-align: right;\">\n",
       "      <th></th>\n",
       "      <th>No</th>\n",
       "      <th>X1 transaction date</th>\n",
       "      <th>X2 house age</th>\n",
       "      <th>X3 distance to the nearest MRT station</th>\n",
       "      <th>X4 number of convenience stores</th>\n",
       "      <th>X5 latitude</th>\n",
       "      <th>X6 longitude</th>\n",
       "      <th>Y house price of unit area</th>\n",
       "    </tr>\n",
       "  </thead>\n",
       "  <tbody>\n",
       "    <tr>\n",
       "      <th>409</th>\n",
       "      <td>410</td>\n",
       "      <td>2013.000</td>\n",
       "      <td>13.7</td>\n",
       "      <td>4082.01500</td>\n",
       "      <td>0</td>\n",
       "      <td>24.94155</td>\n",
       "      <td>121.50381</td>\n",
       "      <td>15.4</td>\n",
       "    </tr>\n",
       "    <tr>\n",
       "      <th>410</th>\n",
       "      <td>411</td>\n",
       "      <td>2012.667</td>\n",
       "      <td>5.6</td>\n",
       "      <td>90.45606</td>\n",
       "      <td>9</td>\n",
       "      <td>24.97433</td>\n",
       "      <td>121.54310</td>\n",
       "      <td>50.0</td>\n",
       "    </tr>\n",
       "    <tr>\n",
       "      <th>411</th>\n",
       "      <td>412</td>\n",
       "      <td>2013.250</td>\n",
       "      <td>18.8</td>\n",
       "      <td>390.96960</td>\n",
       "      <td>7</td>\n",
       "      <td>24.97923</td>\n",
       "      <td>121.53986</td>\n",
       "      <td>40.6</td>\n",
       "    </tr>\n",
       "    <tr>\n",
       "      <th>412</th>\n",
       "      <td>413</td>\n",
       "      <td>2013.000</td>\n",
       "      <td>8.1</td>\n",
       "      <td>104.81010</td>\n",
       "      <td>5</td>\n",
       "      <td>24.96674</td>\n",
       "      <td>121.54067</td>\n",
       "      <td>52.5</td>\n",
       "    </tr>\n",
       "    <tr>\n",
       "      <th>413</th>\n",
       "      <td>414</td>\n",
       "      <td>2013.500</td>\n",
       "      <td>6.5</td>\n",
       "      <td>90.45606</td>\n",
       "      <td>9</td>\n",
       "      <td>24.97433</td>\n",
       "      <td>121.54310</td>\n",
       "      <td>63.9</td>\n",
       "    </tr>\n",
       "  </tbody>\n",
       "</table>\n",
       "</div>"
      ],
      "text/plain": [
       "      No  X1 transaction date  X2 house age  \\\n",
       "409  410             2013.000          13.7   \n",
       "410  411             2012.667           5.6   \n",
       "411  412             2013.250          18.8   \n",
       "412  413             2013.000           8.1   \n",
       "413  414             2013.500           6.5   \n",
       "\n",
       "     X3 distance to the nearest MRT station  X4 number of convenience stores  \\\n",
       "409                              4082.01500                                0   \n",
       "410                                90.45606                                9   \n",
       "411                               390.96960                                7   \n",
       "412                               104.81010                                5   \n",
       "413                                90.45606                                9   \n",
       "\n",
       "     X5 latitude  X6 longitude  Y house price of unit area  \n",
       "409     24.94155     121.50381                        15.4  \n",
       "410     24.97433     121.54310                        50.0  \n",
       "411     24.97923     121.53986                        40.6  \n",
       "412     24.96674     121.54067                        52.5  \n",
       "413     24.97433     121.54310                        63.9  "
      ]
     },
     "execution_count": 74,
     "metadata": {},
     "output_type": "execute_result"
    }
   ],
   "source": [
    "df.tail()"
   ]
  },
  {
   "cell_type": "code",
   "execution_count": 75,
   "id": "fbc96dd6",
   "metadata": {},
   "outputs": [
    {
     "name": "stdout",
     "output_type": "stream",
     "text": [
      "<class 'pandas.core.frame.DataFrame'>\n",
      "RangeIndex: 414 entries, 0 to 413\n",
      "Data columns (total 8 columns):\n",
      " #   Column                                  Non-Null Count  Dtype  \n",
      "---  ------                                  --------------  -----  \n",
      " 0   No                                      414 non-null    int64  \n",
      " 1   X1 transaction date                     414 non-null    float64\n",
      " 2   X2 house age                            414 non-null    float64\n",
      " 3   X3 distance to the nearest MRT station  414 non-null    float64\n",
      " 4   X4 number of convenience stores         414 non-null    int64  \n",
      " 5   X5 latitude                             414 non-null    float64\n",
      " 6   X6 longitude                            414 non-null    float64\n",
      " 7   Y house price of unit area              414 non-null    float64\n",
      "dtypes: float64(6), int64(2)\n",
      "memory usage: 26.0 KB\n"
     ]
    }
   ],
   "source": [
    "df.info()"
   ]
  },
  {
   "cell_type": "code",
   "execution_count": 76,
   "id": "833def6a",
   "metadata": {},
   "outputs": [
    {
     "data": {
      "text/plain": [
       "Index(['No', 'X1 transaction date', 'X2 house age',\n",
       "       'X3 distance to the nearest MRT station',\n",
       "       'X4 number of convenience stores', 'X5 latitude', 'X6 longitude',\n",
       "       'Y house price of unit area'],\n",
       "      dtype='object')"
      ]
     },
     "execution_count": 76,
     "metadata": {},
     "output_type": "execute_result"
    }
   ],
   "source": [
    "df.columns"
   ]
  },
  {
   "cell_type": "markdown",
   "id": "8d90bfcc",
   "metadata": {},
   "source": [
    "#### Target Variable:\n",
    "\n",
    "- Price: The price of the real estate property is the variable you want to predict. This is a continuous variable, making it suitable for regression analysis.\n",
    "\n",
    "#### Feature Variables:\n",
    "The specific features can vary based on the columns available in the dataset, but here are some common features you might consider:\n",
    "\n",
    "- Transaction date.\n",
    "- House age \n",
    "- Distance to the nearest MRT station\n",
    "- Number of convenience store \n",
    "- Location: The geographical location of the property (latitude and longitude, or any other location identifier).\n",
    "- Other Property Features: Any other relevant features like the presence of amenities, year built, etc."
   ]
  },
  {
   "cell_type": "code",
   "execution_count": 77,
   "id": "24b90e35",
   "metadata": {},
   "outputs": [],
   "source": [
    "#Target and Feature Variables\n",
    "X = df[['X1 transaction date', 'X2 house age',\n",
    "       'X3 distance to the nearest MRT station',\n",
    "       'X4 number of convenience stores', 'X5 latitude', 'X6 longitude']]\n",
    "y = df['Y house price of unit area']"
   ]
  },
  {
   "cell_type": "code",
   "execution_count": 78,
   "id": "7305f1d8",
   "metadata": {},
   "outputs": [],
   "source": [
    "#Divide the dataset among training and testing data in 80:20\n",
    "X_train, X_test, y_train, y_test = train_test_split(X, y, test_size=0.2, random_state=42)"
   ]
  },
  {
   "cell_type": "markdown",
   "id": "9ed3b1cf",
   "metadata": {},
   "source": [
    "## Linear Regression"
   ]
  },
  {
   "cell_type": "code",
   "execution_count": 79,
   "id": "72fe2803",
   "metadata": {},
   "outputs": [],
   "source": [
    "#Create linear regression object\n",
    "regr1 = linear_model.LinearRegression()\n",
    "\n",
    "#Train the model using training sets\n",
    "regr1.fit(X_train, y_train)\n",
    "\n",
    "#Make predictions using testing set\n",
    "y_pred1 = regr1.predict(X_test)"
   ]
  },
  {
   "cell_type": "code",
   "execution_count": 80,
   "id": "ddaf4332",
   "metadata": {},
   "outputs": [
    {
     "name": "stdout",
     "output_type": "stream",
     "text": [
      "Coefficients: \n",
      " [ 5.44074186e+00 -2.70791490e-01 -4.75863892e-03  1.09142527e+00\n",
      "  2.29043054e+02 -2.94925908e+01]\n",
      "Intercept:\n",
      " -13044.231917160485\n",
      "Mean Squared Error: 53.51\n",
      "Coefficient of Determination: 0.68\n"
     ]
    }
   ],
   "source": [
    "#Coefficients\n",
    "print(\"Coefficients: \\n\",regr1.coef_)\n",
    "#Intercept\n",
    "print(\"Intercept:\\n\", regr1.intercept_)\n",
    "#Mean Squared Error\n",
    "print(\"Mean Squared Error: %.2f\" % mean_squared_error(y_test, y_pred1))\n",
    "#Coefficient of determination: 1 is perfect prediction\n",
    "print(\"Coefficient of Determination: %.2f\" % r2_score(y_test, y_pred1))"
   ]
  },
  {
   "cell_type": "markdown",
   "id": "4081cd3f",
   "metadata": {},
   "source": [
    "## Decision Tree "
   ]
  },
  {
   "cell_type": "code",
   "execution_count": 81,
   "id": "628b896a",
   "metadata": {},
   "outputs": [],
   "source": [
    "#Create decision tree object\n",
    "regr2 = DecisionTreeRegressor(max_depth=5)\n",
    "\n",
    "#Train the model using training sets\n",
    "regr2.fit(X_train, y_train)\n",
    "\n",
    "#Make predictions using testing set\n",
    "y_pred2 = regr2.predict(X_test)"
   ]
  },
  {
   "cell_type": "code",
   "execution_count": 82,
   "id": "ca9d7fa5",
   "metadata": {},
   "outputs": [
    {
     "name": "stdout",
     "output_type": "stream",
     "text": [
      "Mean Squared Error: 36.40\n",
      "Coefficient of Determination: 0.78\n"
     ]
    }
   ],
   "source": [
    "#Mean Squared Error\n",
    "print(\"Mean Squared Error: %.2f\" % mean_squared_error(y_test, y_pred2))\n",
    "#Coeff of Determination\n",
    "print(\"Coefficient of Determination: %.2f\" % r2_score(y_test, y_pred2))"
   ]
  },
  {
   "cell_type": "markdown",
   "id": "0943f55a",
   "metadata": {},
   "source": [
    "## Random Forest "
   ]
  },
  {
   "cell_type": "code",
   "execution_count": 83,
   "id": "58512b36",
   "metadata": {},
   "outputs": [],
   "source": [
    "#Create decision tree object\n",
    "regr3 = RandomForestRegressor(max_depth=2, random_state=0)\n",
    "\n",
    "#Train the model using training sets\n",
    "regr3.fit(X_train, y_train)\n",
    "\n",
    "#Make predictions using testing set\n",
    "y_pred3 = regr3.predict(X_test)"
   ]
  },
  {
   "cell_type": "code",
   "execution_count": 84,
   "id": "c500a9df",
   "metadata": {},
   "outputs": [
    {
     "name": "stdout",
     "output_type": "stream",
     "text": [
      "Mean Squared Error: 45.66\n",
      "Coefficient of Determination: 0.73\n"
     ]
    }
   ],
   "source": [
    "#Mean Squared Error\n",
    "print(\"Mean Squared Error: %.2f\" % mean_squared_error(y_test, y_pred3))\n",
    "#Coeff of Determination\n",
    "print(\"Coefficient of Determination: %.2f\" % r2_score(y_test, y_pred3))"
   ]
  },
  {
   "cell_type": "markdown",
   "id": "b46799b1",
   "metadata": {},
   "source": [
    "## Support Vector Machine "
   ]
  },
  {
   "cell_type": "code",
   "execution_count": 85,
   "id": "b8090147",
   "metadata": {},
   "outputs": [],
   "source": [
    "#Create decision tree object\n",
    "regr4 = SVR(C=5.0, epsilon=0.8)\n",
    "\n",
    "#Train the model using training sets\n",
    "regr4.fit(X_train, y_train)\n",
    "\n",
    "#Make predictions using testing set\n",
    "y_pred4 = regr4.predict(X_test)"
   ]
  },
  {
   "cell_type": "code",
   "execution_count": 86,
   "id": "87a26d37",
   "metadata": {},
   "outputs": [
    {
     "name": "stdout",
     "output_type": "stream",
     "text": [
      "Mean Squared Error: 59.30\n",
      "Coefficient of Determination: 0.65\n"
     ]
    }
   ],
   "source": [
    "#Mean Squared Error\n",
    "print(\"Mean Squared Error: %.2f\" % mean_squared_error(y_test, y_pred4))\n",
    "#Coeff of Determination\n",
    "print(\"Coefficient of Determination: %.2f\" % r2_score(y_test, y_pred4))"
   ]
  },
  {
   "cell_type": "markdown",
   "id": "d5f26902",
   "metadata": {},
   "source": [
    "## Preperation for Comparison"
   ]
  },
  {
   "cell_type": "code",
   "execution_count": 87,
   "id": "49598903",
   "metadata": {},
   "outputs": [],
   "source": [
    "# Mean Squared Errors\n",
    "mse_lr = mean_squared_error(y_test, y_pred1)\n",
    "mse_dt = mean_squared_error(y_test, y_pred2)\n",
    "mse_rf = mean_squared_error(y_test, y_pred3)\n",
    "mse_svm = mean_squared_error(y_test, y_pred4)"
   ]
  },
  {
   "cell_type": "code",
   "execution_count": 88,
   "id": "ac3fd1d8",
   "metadata": {},
   "outputs": [],
   "source": [
    "#R2_Scores\n",
    "r2_lr = r2_score(y_test, y_pred1)\n",
    "r2_dt = r2_score(y_test, y_pred2)\n",
    "r2_rf = r2_score(y_test, y_pred3)\n",
    "r2_svm = r2_score(y_test, y_pred4)"
   ]
  },
  {
   "cell_type": "code",
   "execution_count": 89,
   "id": "fcd8c76b",
   "metadata": {},
   "outputs": [],
   "source": [
    "#Matplotlib in rescue for visual comparison\n",
    "import matplotlib.pyplot as plt"
   ]
  },
  {
   "cell_type": "code",
   "execution_count": 90,
   "id": "f4b0b8f9",
   "metadata": {},
   "outputs": [],
   "source": [
    "labels = ['Linear Regression', 'Decision Tree', 'Random Forest', 'Support Vector Machines']\n",
    "mse = [mse_lr, mse_dt, mse_rf, mse_svm]\n",
    "cod = [r2_lr, r2_dt, r2_rf, r2_svm]"
   ]
  },
  {
   "cell_type": "markdown",
   "id": "e96cff01",
   "metadata": {},
   "source": [
    "## Plot for Comparison wrt Mean Squared Error"
   ]
  },
  {
   "cell_type": "code",
   "execution_count": 91,
   "id": "5d9655d4",
   "metadata": {},
   "outputs": [
    {
     "data": {
      "text/plain": [
       "Text(0, 0.5, 'Error')"
      ]
     },
     "execution_count": 91,
     "metadata": {},
     "output_type": "execute_result"
    },
    {
     "data": {
      "image/png": "[encoded data removed]",
      "text/plain": [
       "<Figure size 800x500 with 1 Axes>"
      ]
     },
     "metadata": {},
     "output_type": "display_data"
    }
   ],
   "source": [
    "plt.figure(figsize=(8,5))\n",
    "plt.bar(labels, mse, color=['purple','magenta','hotpink', 'violet'])\n",
    "plt.title('Mean Squared Error')\n",
    "plt.ylabel('Error')"
   ]
  },
  {
   "cell_type": "code",
   "execution_count": 93,
   "id": "b65d7d35",
   "metadata": {},
   "outputs": [
    {
     "name": "stdout",
     "output_type": "stream",
     "text": [
      "Best Model: Decision Tree\n"
     ]
    }
   ],
   "source": [
    "# Choose the model with the lowest MSE\n",
    "best_model = min([(mse_lr, 'Linear Regression'), (mse_dt, 'Decision Tree'), (mse_rf, 'Random Forest'), (mse_svm, 'SVM')])\n",
    "\n",
    "print(\"Best Model:\", best_model[1])"
   ]
  },
  {
   "cell_type": "markdown",
   "id": "3e591e42",
   "metadata": {},
   "source": [
    "Among the all the Machine Learing Algorithms we used for the comparison, in case of Mean Squared Error, Decision Tree stood out to be the go to algorithm because we got the lowest value from this model\n",
    "\n",
    "##### Increasing order of values\n",
    "- Decision Tree - 36.40\n",
    "- Random Forest - 45.66\n",
    "- Linear Regression - 53.51\n",
    "- Support Vector Machine - 59.30"
   ]
  },
  {
   "cell_type": "markdown",
   "id": "caebf016",
   "metadata": {},
   "source": [
    "## Plot for Comparison wrt Coefficient of Determination "
   ]
  },
  {
   "cell_type": "code",
   "execution_count": 92,
   "id": "95a93d14",
   "metadata": {},
   "outputs": [
    {
     "data": {
      "text/plain": [
       "Text(0, 0.5, 'Error')"
      ]
     },
     "execution_count": 92,
     "metadata": {},
     "output_type": "execute_result"
    },
    {
     "data": {
      "image/png": "[encoded data removed]",
      "text/plain": [
       "<Figure size 800x500 with 1 Axes>"
      ]
     },
     "metadata": {},
     "output_type": "display_data"
    }
   ],
   "source": [
    "plt.figure(figsize=(8,5))\n",
    "plt.bar(labels, cod, color=['seagreen','limegreen','green','teal'])\n",
    "plt.title('Coefficient of Determination')\n",
    "plt.ylabel('Error')"
   ]
  },
  {
   "cell_type": "code",
   "execution_count": 94,
   "id": "1eef16d7",
   "metadata": {},
   "outputs": [
    {
     "name": "stdout",
     "output_type": "stream",
     "text": [
      "Best Model: Decision Tree\n"
     ]
    }
   ],
   "source": [
    "# Choose the model with the highest R2_Score\n",
    "best_model = max([(r2_lr, 'Linear Regression'), (r2_dt, 'Decision Tree'), (r2_rf, 'Random Forest'), (r2_svm, 'SVM')])\n",
    "\n",
    "print(\"Best Model:\", best_model[1])"
   ]
  },
  {
   "cell_type": "markdown",
   "id": "0d085c71",
   "metadata": {},
   "source": [
    "Among the all the Machine Learing Algorithms we used for the comparison, in case of Coefficient of Determination, Decision Tree stood out to be the go to algorithm because we got the highest value from this model\n",
    "\n",
    "##### Decreasing order of values\n",
    "- Decision Tree - 0.78\n",
    "- Random Forest - 0.73\n",
    "- Linear Regression - 0.68\n",
    "- Support Vector Machine - 0.65"
   ]
  },
  {
   "cell_type": "markdown",
   "id": "c01f333d",
   "metadata": {},
   "source": [
    "# Moment of Truth\n",
    "\n",
    "Decision Tree turns out to be the best algorithm to go with in this case of comparison."
   ]
  },
  {
   "cell_type": "code",
   "execution_count": null,
   "id": "7aafba94",
   "metadata": {},
   "outputs": [],
   "source": []
  }
 ],
 "metadata": {
  "kernelspec": {
   "display_name": "Python 3 (ipykernel)",
   "language": "python",
   "name": "python3"
  },
  "language_info": {
   "codemirror_mode": {
    "name": "ipython",
    "version": 3
   },
   "file_extension": ".py",
   "mimetype": "text/x-python",
   "name": "python",
   "nbconvert_exporter": "python",
   "pygments_lexer": "ipython3",
   "version": "3.11.3"
  }
 },
 "nbformat": 4,
 "nbformat_minor": 5
}
